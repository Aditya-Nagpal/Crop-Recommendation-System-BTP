{
 "cells": [
  {
   "cell_type": "code",
   "execution_count": 1,
   "id": "a830cf92-001a-4d1c-bc4f-905bbfe18030",
   "metadata": {},
   "outputs": [],
   "source": [
    "import pandas as pd\n",
    "import numpy as np\n",
    "import matplotlib.pyplot as plt\n",
    "import seaborn as sns\n",
    "%matplotlib inline\n",
    "import warnings"
   ]
  },
  {
   "cell_type": "code",
   "execution_count": 2,
   "id": "73bf32ec-70ce-4909-80df-8283545b2e4d",
   "metadata": {},
   "outputs": [
    {
     "data": {
      "text/html": [
       "<div>\n",
       "<style scoped>\n",
       "    .dataframe tbody tr th:only-of-type {\n",
       "        vertical-align: middle;\n",
       "    }\n",
       "\n",
       "    .dataframe tbody tr th {\n",
       "        vertical-align: top;\n",
       "    }\n",
       "\n",
       "    .dataframe thead th {\n",
       "        text-align: right;\n",
       "    }\n",
       "</style>\n",
       "<table border=\"1\" class=\"dataframe\">\n",
       "  <thead>\n",
       "    <tr style=\"text-align: right;\">\n",
       "      <th></th>\n",
       "      <th>N</th>\n",
       "      <th>P</th>\n",
       "      <th>K</th>\n",
       "      <th>temperature</th>\n",
       "      <th>humidity</th>\n",
       "      <th>ph</th>\n",
       "      <th>rainfall</th>\n",
       "      <th>label</th>\n",
       "    </tr>\n",
       "  </thead>\n",
       "  <tbody>\n",
       "    <tr>\n",
       "      <th>2045</th>\n",
       "      <td>75</td>\n",
       "      <td>41</td>\n",
       "      <td>35</td>\n",
       "      <td>24.970426</td>\n",
       "      <td>78.626977</td>\n",
       "      <td>6.856833</td>\n",
       "      <td>166.641525</td>\n",
       "      <td>jute</td>\n",
       "    </tr>\n",
       "    <tr>\n",
       "      <th>376</th>\n",
       "      <td>27</td>\n",
       "      <td>69</td>\n",
       "      <td>22</td>\n",
       "      <td>17.916523</td>\n",
       "      <td>24.908147</td>\n",
       "      <td>5.932323</td>\n",
       "      <td>69.146810</td>\n",
       "      <td>kidneybeans</td>\n",
       "    </tr>\n",
       "    <tr>\n",
       "      <th>285</th>\n",
       "      <td>37</td>\n",
       "      <td>78</td>\n",
       "      <td>79</td>\n",
       "      <td>19.952648</td>\n",
       "      <td>14.826331</td>\n",
       "      <td>7.786366</td>\n",
       "      <td>88.681031</td>\n",
       "      <td>chickpea</td>\n",
       "    </tr>\n",
       "    <tr>\n",
       "      <th>861</th>\n",
       "      <td>19</td>\n",
       "      <td>79</td>\n",
       "      <td>19</td>\n",
       "      <td>20.060040</td>\n",
       "      <td>67.762526</td>\n",
       "      <td>6.677263</td>\n",
       "      <td>42.895091</td>\n",
       "      <td>lentil</td>\n",
       "    </tr>\n",
       "    <tr>\n",
       "      <th>2176</th>\n",
       "      <td>86</td>\n",
       "      <td>40</td>\n",
       "      <td>33</td>\n",
       "      <td>26.138787</td>\n",
       "      <td>52.263117</td>\n",
       "      <td>7.432322</td>\n",
       "      <td>136.302777</td>\n",
       "      <td>coffee</td>\n",
       "    </tr>\n",
       "  </tbody>\n",
       "</table>\n",
       "</div>"
      ],
      "text/plain": [
       "       N   P   K  temperature   humidity        ph    rainfall        label\n",
       "2045  75  41  35    24.970426  78.626977  6.856833  166.641525         jute\n",
       "376   27  69  22    17.916523  24.908147  5.932323   69.146810  kidneybeans\n",
       "285   37  78  79    19.952648  14.826331  7.786366   88.681031     chickpea\n",
       "861   19  79  19    20.060040  67.762526  6.677263   42.895091       lentil\n",
       "2176  86  40  33    26.138787  52.263117  7.432322  136.302777       coffee"
      ]
     },
     "execution_count": 2,
     "metadata": {},
     "output_type": "execute_result"
    }
   ],
   "source": [
    "data=pd.read_csv('Crop_recommendation.csv')\n",
    "data=data.sample(frac=1) \n",
    "data.head()"
   ]
  },
  {
   "cell_type": "code",
   "execution_count": 3,
   "id": "9c4a8046-0d45-4169-9991-6066a048a582",
   "metadata": {},
   "outputs": [
    {
     "data": {
      "text/plain": [
       "(2200, 8)"
      ]
     },
     "execution_count": 3,
     "metadata": {},
     "output_type": "execute_result"
    }
   ],
   "source": [
    "data.shape"
   ]
  },
  {
   "cell_type": "code",
   "execution_count": 4,
   "id": "d733dace-ffd4-46da-92f4-836f64a85457",
   "metadata": {},
   "outputs": [
    {
     "name": "stdout",
     "output_type": "stream",
     "text": [
      "<class 'pandas.core.frame.DataFrame'>\n",
      "Index: 2200 entries, 2045 to 1055\n",
      "Data columns (total 8 columns):\n",
      " #   Column       Non-Null Count  Dtype  \n",
      "---  ------       --------------  -----  \n",
      " 0   N            2200 non-null   int64  \n",
      " 1   P            2200 non-null   int64  \n",
      " 2   K            2200 non-null   int64  \n",
      " 3   temperature  2200 non-null   float64\n",
      " 4   humidity     2200 non-null   float64\n",
      " 5   ph           2200 non-null   float64\n",
      " 6   rainfall     2200 non-null   float64\n",
      " 7   label        2200 non-null   object \n",
      "dtypes: float64(4), int64(3), object(1)\n",
      "memory usage: 154.7+ KB\n"
     ]
    }
   ],
   "source": [
    "data.info()"
   ]
  },
  {
   "cell_type": "code",
   "execution_count": 5,
   "id": "b794724f-75f6-4917-b8ce-ea835b6a3478",
   "metadata": {},
   "outputs": [
    {
     "data": {
      "text/plain": [
       "N              0\n",
       "P              0\n",
       "K              0\n",
       "temperature    0\n",
       "humidity       0\n",
       "ph             0\n",
       "rainfall       0\n",
       "label          0\n",
       "dtype: int64"
      ]
     },
     "execution_count": 5,
     "metadata": {},
     "output_type": "execute_result"
    }
   ],
   "source": [
    "data.isnull().sum()"
   ]
  },
  {
   "cell_type": "code",
   "execution_count": 6,
   "id": "14335704-8372-4921-86ce-e8a3460d39b4",
   "metadata": {},
   "outputs": [
    {
     "data": {
      "text/plain": [
       "0"
      ]
     },
     "execution_count": 6,
     "metadata": {},
     "output_type": "execute_result"
    }
   ],
   "source": [
    "data.duplicated().sum()"
   ]
  },
  {
   "cell_type": "code",
   "execution_count": 7,
   "id": "31e160e4-e2aa-4645-96f1-acf16cced33a",
   "metadata": {},
   "outputs": [
    {
     "data": {
      "text/html": [
       "<div>\n",
       "<style scoped>\n",
       "    .dataframe tbody tr th:only-of-type {\n",
       "        vertical-align: middle;\n",
       "    }\n",
       "\n",
       "    .dataframe tbody tr th {\n",
       "        vertical-align: top;\n",
       "    }\n",
       "\n",
       "    .dataframe thead th {\n",
       "        text-align: right;\n",
       "    }\n",
       "</style>\n",
       "<table border=\"1\" class=\"dataframe\">\n",
       "  <thead>\n",
       "    <tr style=\"text-align: right;\">\n",
       "      <th></th>\n",
       "      <th>N</th>\n",
       "      <th>P</th>\n",
       "      <th>K</th>\n",
       "      <th>temperature</th>\n",
       "      <th>humidity</th>\n",
       "      <th>ph</th>\n",
       "      <th>rainfall</th>\n",
       "    </tr>\n",
       "  </thead>\n",
       "  <tbody>\n",
       "    <tr>\n",
       "      <th>count</th>\n",
       "      <td>2200.000000</td>\n",
       "      <td>2200.000000</td>\n",
       "      <td>2200.000000</td>\n",
       "      <td>2200.000000</td>\n",
       "      <td>2200.000000</td>\n",
       "      <td>2200.000000</td>\n",
       "      <td>2200.000000</td>\n",
       "    </tr>\n",
       "    <tr>\n",
       "      <th>mean</th>\n",
       "      <td>50.551818</td>\n",
       "      <td>53.362727</td>\n",
       "      <td>48.149091</td>\n",
       "      <td>25.616244</td>\n",
       "      <td>71.481779</td>\n",
       "      <td>6.469480</td>\n",
       "      <td>103.463655</td>\n",
       "    </tr>\n",
       "    <tr>\n",
       "      <th>std</th>\n",
       "      <td>36.917334</td>\n",
       "      <td>32.985883</td>\n",
       "      <td>50.647931</td>\n",
       "      <td>5.063749</td>\n",
       "      <td>22.263812</td>\n",
       "      <td>0.773938</td>\n",
       "      <td>54.958389</td>\n",
       "    </tr>\n",
       "    <tr>\n",
       "      <th>min</th>\n",
       "      <td>0.000000</td>\n",
       "      <td>5.000000</td>\n",
       "      <td>5.000000</td>\n",
       "      <td>8.825675</td>\n",
       "      <td>14.258040</td>\n",
       "      <td>3.504752</td>\n",
       "      <td>20.211267</td>\n",
       "    </tr>\n",
       "    <tr>\n",
       "      <th>25%</th>\n",
       "      <td>21.000000</td>\n",
       "      <td>28.000000</td>\n",
       "      <td>20.000000</td>\n",
       "      <td>22.769375</td>\n",
       "      <td>60.261953</td>\n",
       "      <td>5.971693</td>\n",
       "      <td>64.551686</td>\n",
       "    </tr>\n",
       "    <tr>\n",
       "      <th>50%</th>\n",
       "      <td>37.000000</td>\n",
       "      <td>51.000000</td>\n",
       "      <td>32.000000</td>\n",
       "      <td>25.598693</td>\n",
       "      <td>80.473146</td>\n",
       "      <td>6.425045</td>\n",
       "      <td>94.867624</td>\n",
       "    </tr>\n",
       "    <tr>\n",
       "      <th>75%</th>\n",
       "      <td>84.250000</td>\n",
       "      <td>68.000000</td>\n",
       "      <td>49.000000</td>\n",
       "      <td>28.561654</td>\n",
       "      <td>89.948771</td>\n",
       "      <td>6.923643</td>\n",
       "      <td>124.267508</td>\n",
       "    </tr>\n",
       "    <tr>\n",
       "      <th>max</th>\n",
       "      <td>140.000000</td>\n",
       "      <td>145.000000</td>\n",
       "      <td>205.000000</td>\n",
       "      <td>43.675493</td>\n",
       "      <td>99.981876</td>\n",
       "      <td>9.935091</td>\n",
       "      <td>298.560117</td>\n",
       "    </tr>\n",
       "  </tbody>\n",
       "</table>\n",
       "</div>"
      ],
      "text/plain": [
       "                 N            P            K  temperature     humidity  \\\n",
       "count  2200.000000  2200.000000  2200.000000  2200.000000  2200.000000   \n",
       "mean     50.551818    53.362727    48.149091    25.616244    71.481779   \n",
       "std      36.917334    32.985883    50.647931     5.063749    22.263812   \n",
       "min       0.000000     5.000000     5.000000     8.825675    14.258040   \n",
       "25%      21.000000    28.000000    20.000000    22.769375    60.261953   \n",
       "50%      37.000000    51.000000    32.000000    25.598693    80.473146   \n",
       "75%      84.250000    68.000000    49.000000    28.561654    89.948771   \n",
       "max     140.000000   145.000000   205.000000    43.675493    99.981876   \n",
       "\n",
       "                ph     rainfall  \n",
       "count  2200.000000  2200.000000  \n",
       "mean      6.469480   103.463655  \n",
       "std       0.773938    54.958389  \n",
       "min       3.504752    20.211267  \n",
       "25%       5.971693    64.551686  \n",
       "50%       6.425045    94.867624  \n",
       "75%       6.923643   124.267508  \n",
       "max       9.935091   298.560117  "
      ]
     },
     "execution_count": 7,
     "metadata": {},
     "output_type": "execute_result"
    }
   ],
   "source": [
    "data.describe()"
   ]
  },
  {
   "cell_type": "code",
   "execution_count": 8,
   "id": "e0e3c60d-5879-42e2-b46c-334dd7d84911",
   "metadata": {},
   "outputs": [
    {
     "data": {
      "text/plain": [
       "label\n",
       "jute           100\n",
       "kidneybeans    100\n",
       "watermelon     100\n",
       "coconut        100\n",
       "maize          100\n",
       "muskmelon      100\n",
       "banana         100\n",
       "mango          100\n",
       "mungbean       100\n",
       "orange         100\n",
       "pigeonpeas     100\n",
       "mothbeans      100\n",
       "pomegranate    100\n",
       "blackgram      100\n",
       "apple          100\n",
       "cotton         100\n",
       "papaya         100\n",
       "rice           100\n",
       "coffee         100\n",
       "lentil         100\n",
       "chickpea       100\n",
       "grapes         100\n",
       "Name: count, dtype: int64"
      ]
     },
     "execution_count": 8,
     "metadata": {},
     "output_type": "execute_result"
    }
   ],
   "source": [
    "data['label'].value_counts()"
   ]
  },
  {
   "cell_type": "code",
   "execution_count": 9,
   "id": "04e53ae4-c99d-4f1b-afb6-667988767263",
   "metadata": {},
   "outputs": [
    {
     "data": {
      "text/plain": [
       "{'jute': 1,\n",
       " 'kidneybeans': 2,\n",
       " 'chickpea': 3,\n",
       " 'lentil': 4,\n",
       " 'coffee': 5,\n",
       " 'rice': 6,\n",
       " 'papaya': 7,\n",
       " 'cotton': 8,\n",
       " 'apple': 9,\n",
       " 'blackgram': 10,\n",
       " 'pomegranate': 11,\n",
       " 'mothbeans': 12,\n",
       " 'pigeonpeas': 13,\n",
       " 'orange': 14,\n",
       " 'mungbean': 15,\n",
       " 'mango': 16,\n",
       " 'banana': 17,\n",
       " 'muskmelon': 18,\n",
       " 'maize': 19,\n",
       " 'coconut': 20,\n",
       " 'watermelon': 21,\n",
       " 'grapes': 22}"
      ]
     },
     "execution_count": 9,
     "metadata": {},
     "output_type": "execute_result"
    }
   ],
   "source": [
    "label_map={}\n",
    "crops=data['label'].unique()\n",
    "val=1\n",
    "for crop in crops:\n",
    "    label_map[crop]=val\n",
    "    val+=1\n",
    "data['label_num']=data['label'].map(label_map)\n",
    "label_map"
   ]
  },
  {
   "cell_type": "code",
   "execution_count": 10,
   "id": "e4b2edcc-9f27-41ff-873a-6aca5e0675ac",
   "metadata": {},
   "outputs": [
    {
     "data": {
      "text/html": [
       "<div>\n",
       "<style scoped>\n",
       "    .dataframe tbody tr th:only-of-type {\n",
       "        vertical-align: middle;\n",
       "    }\n",
       "\n",
       "    .dataframe tbody tr th {\n",
       "        vertical-align: top;\n",
       "    }\n",
       "\n",
       "    .dataframe thead th {\n",
       "        text-align: right;\n",
       "    }\n",
       "</style>\n",
       "<table border=\"1\" class=\"dataframe\">\n",
       "  <thead>\n",
       "    <tr style=\"text-align: right;\">\n",
       "      <th></th>\n",
       "      <th>N</th>\n",
       "      <th>P</th>\n",
       "      <th>K</th>\n",
       "      <th>temperature</th>\n",
       "      <th>humidity</th>\n",
       "      <th>ph</th>\n",
       "      <th>rainfall</th>\n",
       "      <th>label_num</th>\n",
       "    </tr>\n",
       "  </thead>\n",
       "  <tbody>\n",
       "    <tr>\n",
       "      <th>2045</th>\n",
       "      <td>75</td>\n",
       "      <td>41</td>\n",
       "      <td>35</td>\n",
       "      <td>24.970426</td>\n",
       "      <td>78.626977</td>\n",
       "      <td>6.856833</td>\n",
       "      <td>166.641525</td>\n",
       "      <td>1</td>\n",
       "    </tr>\n",
       "    <tr>\n",
       "      <th>376</th>\n",
       "      <td>27</td>\n",
       "      <td>69</td>\n",
       "      <td>22</td>\n",
       "      <td>17.916523</td>\n",
       "      <td>24.908147</td>\n",
       "      <td>5.932323</td>\n",
       "      <td>69.146810</td>\n",
       "      <td>2</td>\n",
       "    </tr>\n",
       "    <tr>\n",
       "      <th>285</th>\n",
       "      <td>37</td>\n",
       "      <td>78</td>\n",
       "      <td>79</td>\n",
       "      <td>19.952648</td>\n",
       "      <td>14.826331</td>\n",
       "      <td>7.786366</td>\n",
       "      <td>88.681031</td>\n",
       "      <td>3</td>\n",
       "    </tr>\n",
       "    <tr>\n",
       "      <th>861</th>\n",
       "      <td>19</td>\n",
       "      <td>79</td>\n",
       "      <td>19</td>\n",
       "      <td>20.060040</td>\n",
       "      <td>67.762526</td>\n",
       "      <td>6.677263</td>\n",
       "      <td>42.895091</td>\n",
       "      <td>4</td>\n",
       "    </tr>\n",
       "    <tr>\n",
       "      <th>2176</th>\n",
       "      <td>86</td>\n",
       "      <td>40</td>\n",
       "      <td>33</td>\n",
       "      <td>26.138787</td>\n",
       "      <td>52.263117</td>\n",
       "      <td>7.432322</td>\n",
       "      <td>136.302777</td>\n",
       "      <td>5</td>\n",
       "    </tr>\n",
       "  </tbody>\n",
       "</table>\n",
       "</div>"
      ],
      "text/plain": [
       "       N   P   K  temperature   humidity        ph    rainfall  label_num\n",
       "2045  75  41  35    24.970426  78.626977  6.856833  166.641525          1\n",
       "376   27  69  22    17.916523  24.908147  5.932323   69.146810          2\n",
       "285   37  78  79    19.952648  14.826331  7.786366   88.681031          3\n",
       "861   19  79  19    20.060040  67.762526  6.677263   42.895091          4\n",
       "2176  86  40  33    26.138787  52.263117  7.432322  136.302777          5"
      ]
     },
     "execution_count": 10,
     "metadata": {},
     "output_type": "execute_result"
    }
   ],
   "source": [
    "data.drop(columns=['label'],axis=1,inplace=True)\n",
    "data.head()"
   ]
  },
  {
   "cell_type": "markdown",
   "id": "03364095-b385-4af5-afb8-1d7afc252e09",
   "metadata": {},
   "source": [
    "# Train Test Split"
   ]
  },
  {
   "cell_type": "code",
   "execution_count": 11,
   "id": "0190adea-5ace-403c-8460-62b451513879",
   "metadata": {},
   "outputs": [],
   "source": [
    "X=data.drop(columns=['label_num'],axis=1)\n",
    "Y=data['label_num']"
   ]
  },
  {
   "cell_type": "code",
   "execution_count": 12,
   "id": "672d943f-15c6-492b-806e-e76d76a2b7cf",
   "metadata": {},
   "outputs": [],
   "source": [
    "from sklearn.preprocessing import StandardScaler\n",
    "scaler=StandardScaler()\n",
    "scaled_X=scaler.fit_transform(X)"
   ]
  },
  {
   "cell_type": "code",
   "execution_count": 13,
   "id": "be724bbf-221c-43f7-8eb8-4a14f9883cba",
   "metadata": {},
   "outputs": [],
   "source": [
    "from sklearn.model_selection import train_test_split\n",
    "X_train,X_test,Y_train,Y_test=train_test_split(scaled_X,Y,train_size=0.70,random_state=42)"
   ]
  },
  {
   "cell_type": "code",
   "execution_count": 14,
   "id": "57596a0b-4759-4e8b-8279-f61e3e7600fc",
   "metadata": {},
   "outputs": [
    {
     "data": {
      "text/plain": [
       "((1540, 7), (660, 7), (1540,), (660,))"
      ]
     },
     "execution_count": 14,
     "metadata": {},
     "output_type": "execute_result"
    }
   ],
   "source": [
    "X_train.shape, X_test.shape, Y_train.shape, Y_test.shape"
   ]
  },
  {
   "cell_type": "markdown",
   "id": "d7870255-062a-4be2-a0b5-f122b736e220",
   "metadata": {},
   "source": [
    "# Implementing models"
   ]
  },
  {
   "cell_type": "code",
   "execution_count": 15,
   "id": "e98768fd-0025-4643-876a-ae5ca785cc87",
   "metadata": {},
   "outputs": [],
   "source": [
    "from sklearn.linear_model import LogisticRegression\n",
    "from sklearn.naive_bayes import GaussianNB\n",
    "from sklearn.svm import SVC\n",
    "from sklearn.neighbors import KNeighborsClassifier\n",
    "from sklearn.tree import DecisionTreeClassifier, ExtraTreeClassifier\n",
    "from sklearn.ensemble import RandomForestClassifier, BaggingClassifier, GradientBoostingClassifier, AdaBoostClassifier\n",
    "from sklearn.metrics import accuracy_score, confusion_matrix, classification_report, precision_score, recall_score, f1_score"
   ]
  },
  {
   "cell_type": "code",
   "execution_count": 16,
   "id": "8c32a1d3-6606-46dc-85a7-5b3f324c5800",
   "metadata": {},
   "outputs": [],
   "source": [
    "models={\n",
    "    'Logistic Regression': LogisticRegression(class_weight='balanced'),\n",
    "    'Naive Bayes': GaussianNB(),\n",
    "    'Support Vector Machine': SVC(),\n",
    "    'K-Nearest Neighbors': KNeighborsClassifier(),\n",
    "    'Decision Tree': DecisionTreeClassifier(),\n",
    "    'Extra Trees': ExtraTreeClassifier(),\n",
    "    'Random Forest': RandomForestClassifier(),\n",
    "    'Bagging': BaggingClassifier(),\n",
    "    'Gradient Boosting': GradientBoostingClassifier(),\n",
    "}"
   ]
  },
  {
   "cell_type": "code",
   "execution_count": 27,
   "id": "ce809aff-8e6f-456c-aa48-b8491e1f6e7c",
   "metadata": {},
   "outputs": [
    {
     "name": "stdout",
     "output_type": "stream",
     "text": [
      "Logistic Regression Accuracy score :  0.9590909090909091 \n",
      "\n",
      "Logistic Regression Precision score :  0.9624819661524279 \n",
      "\n",
      "Logistic Regression Recall score :  0.958950456109547 \n",
      "\n",
      "*******************************************\n",
      "Naive Bayes Accuracy score :  0.9863636363636363 \n",
      "\n",
      "Naive Bayes Precision score :  0.9864893171344785 \n",
      "\n",
      "Naive Bayes Recall score :  0.9857954545454546 \n",
      "\n",
      "*******************************************\n",
      "Support Vector Machine Accuracy score :  0.9712121212121212 \n",
      "\n",
      "Support Vector Machine Precision score :  0.9744353347801623 \n",
      "\n",
      "Support Vector Machine Recall score :  0.9718614718614718 \n",
      "\n",
      "*******************************************\n",
      "K-Nearest Neighbors Accuracy score :  0.9636363636363636 \n",
      "\n",
      "K-Nearest Neighbors Precision score :  0.9649072067570154 \n",
      "\n",
      "K-Nearest Neighbors Recall score :  0.9647530499803227 \n",
      "\n",
      "*******************************************\n",
      "Decision Tree Accuracy score :  0.9803030303030303 \n",
      "\n",
      "Decision Tree Precision score :  0.9803988595195997 \n",
      "\n",
      "Decision Tree Recall score :  0.9807203528794438 \n",
      "\n",
      "*******************************************\n",
      "Extra Trees Accuracy score :  0.8803030303030303 \n",
      "\n",
      "Extra Trees Precision score :  0.8879866568852137 \n",
      "\n",
      "Extra Trees Recall score :  0.8879032406544368 \n",
      "\n",
      "*******************************************\n",
      "Random Forest Accuracy score :  0.9893939393939394 \n",
      "\n",
      "Random Forest Precision score :  0.9892510064923857 \n",
      "\n",
      "Random Forest Recall score :  0.9890422077922078 \n",
      "\n",
      "*******************************************\n",
      "Bagging Accuracy score :  0.9833333333333333 \n",
      "\n",
      "Bagging Precision score :  0.9835666917171619 \n",
      "\n",
      "Bagging Recall score :  0.9835182178932179 \n",
      "\n",
      "*******************************************\n",
      "Gradient Boosting Accuracy score :  0.9863636363636363 \n",
      "\n",
      "Gradient Boosting Precision score :  0.9860025527180952 \n",
      "\n",
      "Gradient Boosting Recall score :  0.9858300264550265 \n",
      "\n",
      "*******************************************\n"
     ]
    }
   ],
   "source": [
    " for name,model in models.items():\n",
    "     model.fit(X_train,Y_train)\n",
    "     predictions=model.predict(X_test)\n",
    "     #print(f\"{name} : Classification report\")\n",
    "     #print(classification_report(Y_test,predictions),'\\n')\n",
    "     print(f\"{name} Accuracy score : \", accuracy_score(Y_test,predictions),'\\n')\n",
    "     print(f\"{name} Precision score : \", precision_score(Y_test,predictions,average=\"macro\"),'\\n')\n",
    "     print(f\"{name} Recall score : \", recall_score(Y_test,predictions,average=\"macro\"),'\\n')\n",
    "     print(\"*******************************************\")"
   ]
  },
  {
   "cell_type": "code",
   "execution_count": 18,
   "id": "206ad358-f799-4c9b-9d89-7c8b3e612d6b",
   "metadata": {},
   "outputs": [],
   "source": [
    "classifier=models['Logistic Regression']\n",
    "classifier.fit(X_train,Y_train)\n",
    "predictions=classifier.predict(X_test)"
   ]
  },
  {
   "cell_type": "markdown",
   "id": "e9b4ed76-88b9-40b5-bcd5-296d2248df2b",
   "metadata": {},
   "source": [
    "# Predictive system"
   ]
  },
  {
   "cell_type": "code",
   "execution_count": 19,
   "id": "70061845-a650-401e-8bfb-e764c537b8bd",
   "metadata": {},
   "outputs": [],
   "source": [
    "def recommendation(N,P,k,temperature,humidity,ph,rainfal):\n",
    "    features=np.array([[N,P,k,temperature,humidity,ph,rainfal]])\n",
    "    transformed_features=scaler.fit_transform(features)\n",
    "    prediction=classifier.predict(transformed_features)\n",
    "    print(prediction)\n",
    "    return prediction[0]"
   ]
  },
  {
   "cell_type": "code",
   "execution_count": 20,
   "id": "4698209a-f750-4f23-9caf-7863a2a4295f",
   "metadata": {},
   "outputs": [
    {
     "data": {
      "text/plain": [
       "{1: 'jute',\n",
       " 2: 'kidneybeans',\n",
       " 3: 'chickpea',\n",
       " 4: 'lentil',\n",
       " 5: 'coffee',\n",
       " 6: 'rice',\n",
       " 7: 'papaya',\n",
       " 8: 'cotton',\n",
       " 9: 'apple',\n",
       " 10: 'blackgram',\n",
       " 11: 'pomegranate',\n",
       " 12: 'mothbeans',\n",
       " 13: 'pigeonpeas',\n",
       " 14: 'orange',\n",
       " 15: 'mungbean',\n",
       " 16: 'mango',\n",
       " 17: 'banana',\n",
       " 18: 'muskmelon',\n",
       " 19: 'maize',\n",
       " 20: 'coconut',\n",
       " 21: 'watermelon',\n",
       " 22: 'grapes'}"
      ]
     },
     "execution_count": 20,
     "metadata": {},
     "output_type": "execute_result"
    }
   ],
   "source": [
    "crop_map={}\n",
    "for crop in crops:\n",
    "    crop_map[label_map[crop]]=crop\n",
    "crop_map"
   ]
  },
  {
   "cell_type": "code",
   "execution_count": 21,
   "id": "c2003013-f501-4c92-a3ad-18a49f3e4e3f",
   "metadata": {},
   "outputs": [
    {
     "name": "stdout",
     "output_type": "stream",
     "text": [
      "[1]\n",
      "1 is a best crop to be cultivated \n"
     ]
    }
   ],
   "source": [
    "# input 1\n",
    "\n",
    "N = 49\n",
    "P = 55\n",
    "k = 51\n",
    "temperature = 24.87\n",
    "humidity = 93.9\n",
    "ph = 6.67\n",
    "rainfall = 135\n",
    "\n",
    "predict = recommendation(N,P,k,temperature,humidity,ph,rainfall)\n",
    "if predict in crop_map:\n",
    "    print(\"{} is a best crop to be cultivated \".format(predict))\n",
    "else:\n",
    "    print(\"Sorry are not able to recommend a proper crop for this environment\")"
   ]
  },
  {
   "cell_type": "code",
   "execution_count": 22,
   "id": "65c91221-82cf-4ad9-ac89-12d1b616543a",
   "metadata": {},
   "outputs": [
    {
     "name": "stdout",
     "output_type": "stream",
     "text": [
      "[1]\n",
      "1 is a best crop to be cultivated \n"
     ]
    }
   ],
   "source": [
    "N = 9\n",
    "P = 35\n",
    "k = 20\n",
    "temperature = 27.4\n",
    "humidity = 80.9\n",
    "ph = 6.9\n",
    "rainfall = 40.53\n",
    "\n",
    "predict = recommendation(N,P,k,temperature,humidity,ph,rainfall)\n",
    "if predict in crop_map:\n",
    "    print(\"{} is a best crop to be cultivated \".format(predict))\n",
    "else:\n",
    "    print(\"Sorry are not able to recommend a proper crop for this environment\")"
   ]
  },
  {
   "cell_type": "code",
   "execution_count": 23,
   "id": "da8f5294-8a5a-4bf2-a181-5e507a76f673",
   "metadata": {},
   "outputs": [
    {
     "data": {
      "text/html": [
       "<div>\n",
       "<style scoped>\n",
       "    .dataframe tbody tr th:only-of-type {\n",
       "        vertical-align: middle;\n",
       "    }\n",
       "\n",
       "    .dataframe tbody tr th {\n",
       "        vertical-align: top;\n",
       "    }\n",
       "\n",
       "    .dataframe thead th {\n",
       "        text-align: right;\n",
       "    }\n",
       "</style>\n",
       "<table border=\"1\" class=\"dataframe\">\n",
       "  <thead>\n",
       "    <tr style=\"text-align: right;\">\n",
       "      <th></th>\n",
       "      <th>N</th>\n",
       "      <th>P</th>\n",
       "      <th>K</th>\n",
       "      <th>temperature</th>\n",
       "      <th>humidity</th>\n",
       "      <th>ph</th>\n",
       "      <th>rainfall</th>\n",
       "      <th>label_num</th>\n",
       "    </tr>\n",
       "  </thead>\n",
       "  <tbody>\n",
       "    <tr>\n",
       "      <th>2045</th>\n",
       "      <td>75</td>\n",
       "      <td>41</td>\n",
       "      <td>35</td>\n",
       "      <td>24.970426</td>\n",
       "      <td>78.626977</td>\n",
       "      <td>6.856833</td>\n",
       "      <td>166.641525</td>\n",
       "      <td>1</td>\n",
       "    </tr>\n",
       "    <tr>\n",
       "      <th>376</th>\n",
       "      <td>27</td>\n",
       "      <td>69</td>\n",
       "      <td>22</td>\n",
       "      <td>17.916523</td>\n",
       "      <td>24.908147</td>\n",
       "      <td>5.932323</td>\n",
       "      <td>69.146810</td>\n",
       "      <td>2</td>\n",
       "    </tr>\n",
       "    <tr>\n",
       "      <th>285</th>\n",
       "      <td>37</td>\n",
       "      <td>78</td>\n",
       "      <td>79</td>\n",
       "      <td>19.952648</td>\n",
       "      <td>14.826331</td>\n",
       "      <td>7.786366</td>\n",
       "      <td>88.681031</td>\n",
       "      <td>3</td>\n",
       "    </tr>\n",
       "    <tr>\n",
       "      <th>861</th>\n",
       "      <td>19</td>\n",
       "      <td>79</td>\n",
       "      <td>19</td>\n",
       "      <td>20.060040</td>\n",
       "      <td>67.762526</td>\n",
       "      <td>6.677263</td>\n",
       "      <td>42.895091</td>\n",
       "      <td>4</td>\n",
       "    </tr>\n",
       "    <tr>\n",
       "      <th>2176</th>\n",
       "      <td>86</td>\n",
       "      <td>40</td>\n",
       "      <td>33</td>\n",
       "      <td>26.138787</td>\n",
       "      <td>52.263117</td>\n",
       "      <td>7.432322</td>\n",
       "      <td>136.302777</td>\n",
       "      <td>5</td>\n",
       "    </tr>\n",
       "    <tr>\n",
       "      <th>37</th>\n",
       "      <td>95</td>\n",
       "      <td>39</td>\n",
       "      <td>36</td>\n",
       "      <td>23.863305</td>\n",
       "      <td>83.152508</td>\n",
       "      <td>5.561399</td>\n",
       "      <td>285.249365</td>\n",
       "      <td>6</td>\n",
       "    </tr>\n",
       "    <tr>\n",
       "      <th>2020</th>\n",
       "      <td>85</td>\n",
       "      <td>53</td>\n",
       "      <td>38</td>\n",
       "      <td>24.900757</td>\n",
       "      <td>73.841864</td>\n",
       "      <td>6.588017</td>\n",
       "      <td>153.899098</td>\n",
       "      <td>1</td>\n",
       "    </tr>\n",
       "    <tr>\n",
       "      <th>33</th>\n",
       "      <td>98</td>\n",
       "      <td>53</td>\n",
       "      <td>38</td>\n",
       "      <td>20.267076</td>\n",
       "      <td>81.638952</td>\n",
       "      <td>5.014507</td>\n",
       "      <td>270.441727</td>\n",
       "      <td>6</td>\n",
       "    </tr>\n",
       "    <tr>\n",
       "      <th>1733</th>\n",
       "      <td>39</td>\n",
       "      <td>70</td>\n",
       "      <td>52</td>\n",
       "      <td>26.265595</td>\n",
       "      <td>90.796681</td>\n",
       "      <td>6.651491</td>\n",
       "      <td>59.493734</td>\n",
       "      <td>7</td>\n",
       "    </tr>\n",
       "    <tr>\n",
       "      <th>2172</th>\n",
       "      <td>111</td>\n",
       "      <td>29</td>\n",
       "      <td>31</td>\n",
       "      <td>26.059684</td>\n",
       "      <td>52.310985</td>\n",
       "      <td>6.136287</td>\n",
       "      <td>161.343254</td>\n",
       "      <td>5</td>\n",
       "    </tr>\n",
       "    <tr>\n",
       "      <th>1911</th>\n",
       "      <td>122</td>\n",
       "      <td>59</td>\n",
       "      <td>18</td>\n",
       "      <td>23.500099</td>\n",
       "      <td>83.634890</td>\n",
       "      <td>6.219469</td>\n",
       "      <td>79.813282</td>\n",
       "      <td>8</td>\n",
       "    </tr>\n",
       "    <tr>\n",
       "      <th>1522</th>\n",
       "      <td>2</td>\n",
       "      <td>143</td>\n",
       "      <td>196</td>\n",
       "      <td>22.712713</td>\n",
       "      <td>90.452617</td>\n",
       "      <td>5.669489</td>\n",
       "      <td>109.885260</td>\n",
       "      <td>9</td>\n",
       "    </tr>\n",
       "    <tr>\n",
       "      <th>1759</th>\n",
       "      <td>42</td>\n",
       "      <td>53</td>\n",
       "      <td>48</td>\n",
       "      <td>23.114077</td>\n",
       "      <td>94.319948</td>\n",
       "      <td>6.758480</td>\n",
       "      <td>231.515316</td>\n",
       "      <td>7</td>\n",
       "    </tr>\n",
       "    <tr>\n",
       "      <th>1930</th>\n",
       "      <td>118</td>\n",
       "      <td>45</td>\n",
       "      <td>23</td>\n",
       "      <td>23.370444</td>\n",
       "      <td>77.431989</td>\n",
       "      <td>7.977651</td>\n",
       "      <td>71.678707</td>\n",
       "      <td>8</td>\n",
       "    </tr>\n",
       "    <tr>\n",
       "      <th>712</th>\n",
       "      <td>52</td>\n",
       "      <td>63</td>\n",
       "      <td>19</td>\n",
       "      <td>29.589490</td>\n",
       "      <td>68.321768</td>\n",
       "      <td>6.928899</td>\n",
       "      <td>67.530212</td>\n",
       "      <td>10</td>\n",
       "    </tr>\n",
       "  </tbody>\n",
       "</table>\n",
       "</div>"
      ],
      "text/plain": [
       "        N    P    K  temperature   humidity        ph    rainfall  label_num\n",
       "2045   75   41   35    24.970426  78.626977  6.856833  166.641525          1\n",
       "376    27   69   22    17.916523  24.908147  5.932323   69.146810          2\n",
       "285    37   78   79    19.952648  14.826331  7.786366   88.681031          3\n",
       "861    19   79   19    20.060040  67.762526  6.677263   42.895091          4\n",
       "2176   86   40   33    26.138787  52.263117  7.432322  136.302777          5\n",
       "37     95   39   36    23.863305  83.152508  5.561399  285.249365          6\n",
       "2020   85   53   38    24.900757  73.841864  6.588017  153.899098          1\n",
       "33     98   53   38    20.267076  81.638952  5.014507  270.441727          6\n",
       "1733   39   70   52    26.265595  90.796681  6.651491   59.493734          7\n",
       "2172  111   29   31    26.059684  52.310985  6.136287  161.343254          5\n",
       "1911  122   59   18    23.500099  83.634890  6.219469   79.813282          8\n",
       "1522    2  143  196    22.712713  90.452617  5.669489  109.885260          9\n",
       "1759   42   53   48    23.114077  94.319948  6.758480  231.515316          7\n",
       "1930  118   45   23    23.370444  77.431989  7.977651   71.678707          8\n",
       "712    52   63   19    29.589490  68.321768  6.928899   67.530212         10"
      ]
     },
     "execution_count": 23,
     "metadata": {},
     "output_type": "execute_result"
    }
   ],
   "source": [
    "data.head(15)"
   ]
  },
  {
   "cell_type": "code",
   "execution_count": 24,
   "id": "5baba43d-7179-4f4a-a872-9edcc436e9db",
   "metadata": {},
   "outputs": [
    {
     "name": "stdout",
     "output_type": "stream",
     "text": [
      "[1]\n",
      "1 is a best crop to be cultivated \n"
     ]
    }
   ],
   "source": [
    "N = 49\n",
    "P = 70\n",
    "k = 76\n",
    "temperature = 19.7\n",
    "humidity = 17.6\n",
    "ph = 6.61\n",
    "rainfall = 85.57\n",
    "\n",
    "predict = recommendation(N,P,k,temperature,humidity,ph,rainfall)\n",
    "if predict in crop_map:\n",
    "    print(\"{} is a best crop to be cultivated \".format(predict))\n",
    "else:\n",
    "    print(\"Sorry are not able to recommend a proper crop for this environment\")"
   ]
  },
  {
   "cell_type": "code",
   "execution_count": 25,
   "id": "a3d1ae9b-9f7b-4da3-af7b-8a28da6c17f2",
   "metadata": {},
   "outputs": [
    {
     "data": {
      "text/plain": [
       "(0.9778794142726795, 0.9579221773206545)"
      ]
     },
     "execution_count": 25,
     "metadata": {},
     "output_type": "execute_result"
    }
   ],
   "source": [
    "model=LogisticRegression()\n",
    "model.fit(X_train,Y_train)\n",
    "p=model.predict(X_train)\n",
    "f1=f1_score(Y_train,p,average=\"macro\")\n",
    "p=model.predict(X_test)\n",
    "f2=f1_score(Y_test,p,average=\"macro\")\n",
    "f1,f2"
   ]
  }
 ],
 "metadata": {
  "kernelspec": {
   "display_name": "Python 3 (ipykernel)",
   "language": "python",
   "name": "python3"
  },
  "language_info": {
   "codemirror_mode": {
    "name": "ipython",
    "version": 3
   },
   "file_extension": ".py",
   "mimetype": "text/x-python",
   "name": "python",
   "nbconvert_exporter": "python",
   "pygments_lexer": "ipython3",
   "version": "3.11.7"
  }
 },
 "nbformat": 4,
 "nbformat_minor": 5
}
