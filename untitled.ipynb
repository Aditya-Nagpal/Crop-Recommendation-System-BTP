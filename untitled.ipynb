{
 "cells": [
  {
   "cell_type": "code",
   "execution_count": 1,
   "id": "a830cf92-001a-4d1c-bc4f-905bbfe18030",
   "metadata": {},
   "outputs": [],
   "source": [
    "import pandas as pd\n",
    "import numpy as np\n",
    "import matplotlib.pyplot as plt\n",
    "import seaborn as sns\n",
    "%matplotlib inline\n",
    "import warnings"
   ]
  },
  {
   "cell_type": "code",
   "execution_count": 2,
   "id": "73bf32ec-70ce-4909-80df-8283545b2e4d",
   "metadata": {},
   "outputs": [
    {
     "data": {
      "text/html": [
       "<div>\n",
       "<style scoped>\n",
       "    .dataframe tbody tr th:only-of-type {\n",
       "        vertical-align: middle;\n",
       "    }\n",
       "\n",
       "    .dataframe tbody tr th {\n",
       "        vertical-align: top;\n",
       "    }\n",
       "\n",
       "    .dataframe thead th {\n",
       "        text-align: right;\n",
       "    }\n",
       "</style>\n",
       "<table border=\"1\" class=\"dataframe\">\n",
       "  <thead>\n",
       "    <tr style=\"text-align: right;\">\n",
       "      <th></th>\n",
       "      <th>N</th>\n",
       "      <th>P</th>\n",
       "      <th>K</th>\n",
       "      <th>temperature</th>\n",
       "      <th>humidity</th>\n",
       "      <th>ph</th>\n",
       "      <th>rainfall</th>\n",
       "      <th>label</th>\n",
       "    </tr>\n",
       "  </thead>\n",
       "  <tbody>\n",
       "    <tr>\n",
       "      <th>1058</th>\n",
       "      <td>86</td>\n",
       "      <td>79</td>\n",
       "      <td>45</td>\n",
       "      <td>27.812515</td>\n",
       "      <td>82.692854</td>\n",
       "      <td>5.807664</td>\n",
       "      <td>99.209615</td>\n",
       "      <td>banana</td>\n",
       "    </tr>\n",
       "    <tr>\n",
       "      <th>575</th>\n",
       "      <td>27</td>\n",
       "      <td>59</td>\n",
       "      <td>20</td>\n",
       "      <td>28.009374</td>\n",
       "      <td>52.609500</td>\n",
       "      <td>4.397699</td>\n",
       "      <td>36.012030</td>\n",
       "      <td>mothbeans</td>\n",
       "    </tr>\n",
       "    <tr>\n",
       "      <th>972</th>\n",
       "      <td>18</td>\n",
       "      <td>21</td>\n",
       "      <td>35</td>\n",
       "      <td>23.280123</td>\n",
       "      <td>94.943305</td>\n",
       "      <td>6.368561</td>\n",
       "      <td>111.138210</td>\n",
       "      <td>pomegranate</td>\n",
       "    </tr>\n",
       "    <tr>\n",
       "      <th>347</th>\n",
       "      <td>13</td>\n",
       "      <td>72</td>\n",
       "      <td>21</td>\n",
       "      <td>24.321166</td>\n",
       "      <td>21.027867</td>\n",
       "      <td>5.821194</td>\n",
       "      <td>60.275525</td>\n",
       "      <td>kidneybeans</td>\n",
       "    </tr>\n",
       "    <tr>\n",
       "      <th>1497</th>\n",
       "      <td>106</td>\n",
       "      <td>21</td>\n",
       "      <td>52</td>\n",
       "      <td>28.895786</td>\n",
       "      <td>94.789930</td>\n",
       "      <td>6.286515</td>\n",
       "      <td>23.036250</td>\n",
       "      <td>muskmelon</td>\n",
       "    </tr>\n",
       "  </tbody>\n",
       "</table>\n",
       "</div>"
      ],
      "text/plain": [
       "        N   P   K  temperature   humidity        ph    rainfall        label\n",
       "1058   86  79  45    27.812515  82.692854  5.807664   99.209615       banana\n",
       "575    27  59  20    28.009374  52.609500  4.397699   36.012030    mothbeans\n",
       "972    18  21  35    23.280123  94.943305  6.368561  111.138210  pomegranate\n",
       "347    13  72  21    24.321166  21.027867  5.821194   60.275525  kidneybeans\n",
       "1497  106  21  52    28.895786  94.789930  6.286515   23.036250    muskmelon"
      ]
     },
     "execution_count": 2,
     "metadata": {},
     "output_type": "execute_result"
    }
   ],
   "source": [
    "data=pd.read_csv('Crop_recommendation.csv')\n",
    "data=data.sample(frac=1) \n",
    "data.head()"
   ]
  },
  {
   "cell_type": "code",
   "execution_count": 3,
   "id": "9c4a8046-0d45-4169-9991-6066a048a582",
   "metadata": {},
   "outputs": [
    {
     "data": {
      "text/plain": [
       "(2200, 8)"
      ]
     },
     "execution_count": 3,
     "metadata": {},
     "output_type": "execute_result"
    }
   ],
   "source": [
    "data.shape"
   ]
  },
  {
   "cell_type": "code",
   "execution_count": 4,
   "id": "d733dace-ffd4-46da-92f4-836f64a85457",
   "metadata": {},
   "outputs": [
    {
     "name": "stdout",
     "output_type": "stream",
     "text": [
      "<class 'pandas.core.frame.DataFrame'>\n",
      "Index: 2200 entries, 1058 to 921\n",
      "Data columns (total 8 columns):\n",
      " #   Column       Non-Null Count  Dtype  \n",
      "---  ------       --------------  -----  \n",
      " 0   N            2200 non-null   int64  \n",
      " 1   P            2200 non-null   int64  \n",
      " 2   K            2200 non-null   int64  \n",
      " 3   temperature  2200 non-null   float64\n",
      " 4   humidity     2200 non-null   float64\n",
      " 5   ph           2200 non-null   float64\n",
      " 6   rainfall     2200 non-null   float64\n",
      " 7   label        2200 non-null   object \n",
      "dtypes: float64(4), int64(3), object(1)\n",
      "memory usage: 154.7+ KB\n"
     ]
    }
   ],
   "source": [
    "data.info()"
   ]
  },
  {
   "cell_type": "code",
   "execution_count": 5,
   "id": "b794724f-75f6-4917-b8ce-ea835b6a3478",
   "metadata": {},
   "outputs": [
    {
     "data": {
      "text/plain": [
       "N              0\n",
       "P              0\n",
       "K              0\n",
       "temperature    0\n",
       "humidity       0\n",
       "ph             0\n",
       "rainfall       0\n",
       "label          0\n",
       "dtype: int64"
      ]
     },
     "execution_count": 5,
     "metadata": {},
     "output_type": "execute_result"
    }
   ],
   "source": [
    "data.isnull().sum()"
   ]
  },
  {
   "cell_type": "code",
   "execution_count": 6,
   "id": "14335704-8372-4921-86ce-e8a3460d39b4",
   "metadata": {},
   "outputs": [
    {
     "data": {
      "text/plain": [
       "0"
      ]
     },
     "execution_count": 6,
     "metadata": {},
     "output_type": "execute_result"
    }
   ],
   "source": [
    "data.duplicated().sum()"
   ]
  },
  {
   "cell_type": "code",
   "execution_count": 7,
   "id": "31e160e4-e2aa-4645-96f1-acf16cced33a",
   "metadata": {},
   "outputs": [
    {
     "data": {
      "text/html": [
       "<div>\n",
       "<style scoped>\n",
       "    .dataframe tbody tr th:only-of-type {\n",
       "        vertical-align: middle;\n",
       "    }\n",
       "\n",
       "    .dataframe tbody tr th {\n",
       "        vertical-align: top;\n",
       "    }\n",
       "\n",
       "    .dataframe thead th {\n",
       "        text-align: right;\n",
       "    }\n",
       "</style>\n",
       "<table border=\"1\" class=\"dataframe\">\n",
       "  <thead>\n",
       "    <tr style=\"text-align: right;\">\n",
       "      <th></th>\n",
       "      <th>N</th>\n",
       "      <th>P</th>\n",
       "      <th>K</th>\n",
       "      <th>temperature</th>\n",
       "      <th>humidity</th>\n",
       "      <th>ph</th>\n",
       "      <th>rainfall</th>\n",
       "    </tr>\n",
       "  </thead>\n",
       "  <tbody>\n",
       "    <tr>\n",
       "      <th>count</th>\n",
       "      <td>2200.000000</td>\n",
       "      <td>2200.000000</td>\n",
       "      <td>2200.000000</td>\n",
       "      <td>2200.000000</td>\n",
       "      <td>2200.000000</td>\n",
       "      <td>2200.000000</td>\n",
       "      <td>2200.000000</td>\n",
       "    </tr>\n",
       "    <tr>\n",
       "      <th>mean</th>\n",
       "      <td>50.551818</td>\n",
       "      <td>53.362727</td>\n",
       "      <td>48.149091</td>\n",
       "      <td>25.616244</td>\n",
       "      <td>71.481779</td>\n",
       "      <td>6.469480</td>\n",
       "      <td>103.463655</td>\n",
       "    </tr>\n",
       "    <tr>\n",
       "      <th>std</th>\n",
       "      <td>36.917334</td>\n",
       "      <td>32.985883</td>\n",
       "      <td>50.647931</td>\n",
       "      <td>5.063749</td>\n",
       "      <td>22.263812</td>\n",
       "      <td>0.773938</td>\n",
       "      <td>54.958389</td>\n",
       "    </tr>\n",
       "    <tr>\n",
       "      <th>min</th>\n",
       "      <td>0.000000</td>\n",
       "      <td>5.000000</td>\n",
       "      <td>5.000000</td>\n",
       "      <td>8.825675</td>\n",
       "      <td>14.258040</td>\n",
       "      <td>3.504752</td>\n",
       "      <td>20.211267</td>\n",
       "    </tr>\n",
       "    <tr>\n",
       "      <th>25%</th>\n",
       "      <td>21.000000</td>\n",
       "      <td>28.000000</td>\n",
       "      <td>20.000000</td>\n",
       "      <td>22.769375</td>\n",
       "      <td>60.261953</td>\n",
       "      <td>5.971693</td>\n",
       "      <td>64.551686</td>\n",
       "    </tr>\n",
       "    <tr>\n",
       "      <th>50%</th>\n",
       "      <td>37.000000</td>\n",
       "      <td>51.000000</td>\n",
       "      <td>32.000000</td>\n",
       "      <td>25.598693</td>\n",
       "      <td>80.473146</td>\n",
       "      <td>6.425045</td>\n",
       "      <td>94.867624</td>\n",
       "    </tr>\n",
       "    <tr>\n",
       "      <th>75%</th>\n",
       "      <td>84.250000</td>\n",
       "      <td>68.000000</td>\n",
       "      <td>49.000000</td>\n",
       "      <td>28.561654</td>\n",
       "      <td>89.948771</td>\n",
       "      <td>6.923643</td>\n",
       "      <td>124.267508</td>\n",
       "    </tr>\n",
       "    <tr>\n",
       "      <th>max</th>\n",
       "      <td>140.000000</td>\n",
       "      <td>145.000000</td>\n",
       "      <td>205.000000</td>\n",
       "      <td>43.675493</td>\n",
       "      <td>99.981876</td>\n",
       "      <td>9.935091</td>\n",
       "      <td>298.560117</td>\n",
       "    </tr>\n",
       "  </tbody>\n",
       "</table>\n",
       "</div>"
      ],
      "text/plain": [
       "                 N            P            K  temperature     humidity  \\\n",
       "count  2200.000000  2200.000000  2200.000000  2200.000000  2200.000000   \n",
       "mean     50.551818    53.362727    48.149091    25.616244    71.481779   \n",
       "std      36.917334    32.985883    50.647931     5.063749    22.263812   \n",
       "min       0.000000     5.000000     5.000000     8.825675    14.258040   \n",
       "25%      21.000000    28.000000    20.000000    22.769375    60.261953   \n",
       "50%      37.000000    51.000000    32.000000    25.598693    80.473146   \n",
       "75%      84.250000    68.000000    49.000000    28.561654    89.948771   \n",
       "max     140.000000   145.000000   205.000000    43.675493    99.981876   \n",
       "\n",
       "                ph     rainfall  \n",
       "count  2200.000000  2200.000000  \n",
       "mean      6.469480   103.463655  \n",
       "std       0.773938    54.958389  \n",
       "min       3.504752    20.211267  \n",
       "25%       5.971693    64.551686  \n",
       "50%       6.425045    94.867624  \n",
       "75%       6.923643   124.267508  \n",
       "max       9.935091   298.560117  "
      ]
     },
     "execution_count": 7,
     "metadata": {},
     "output_type": "execute_result"
    }
   ],
   "source": [
    "data.describe()"
   ]
  },
  {
   "cell_type": "code",
   "execution_count": 8,
   "id": "e0e3c60d-5879-42e2-b46c-334dd7d84911",
   "metadata": {},
   "outputs": [
    {
     "data": {
      "text/plain": [
       "label\n",
       "banana         100\n",
       "mothbeans      100\n",
       "watermelon     100\n",
       "mango          100\n",
       "chickpea       100\n",
       "pigeonpeas     100\n",
       "coffee         100\n",
       "grapes         100\n",
       "cotton         100\n",
       "lentil         100\n",
       "papaya         100\n",
       "blackgram      100\n",
       "rice           100\n",
       "orange         100\n",
       "mungbean       100\n",
       "apple          100\n",
       "maize          100\n",
       "jute           100\n",
       "muskmelon      100\n",
       "kidneybeans    100\n",
       "pomegranate    100\n",
       "coconut        100\n",
       "Name: count, dtype: int64"
      ]
     },
     "execution_count": 8,
     "metadata": {},
     "output_type": "execute_result"
    }
   ],
   "source": [
    "data['label'].value_counts()"
   ]
  },
  {
   "cell_type": "code",
   "execution_count": 9,
   "id": "04e53ae4-c99d-4f1b-afb6-667988767263",
   "metadata": {},
   "outputs": [
    {
     "data": {
      "text/plain": [
       "{'banana': 1,\n",
       " 'mothbeans': 2,\n",
       " 'pomegranate': 3,\n",
       " 'kidneybeans': 4,\n",
       " 'muskmelon': 5,\n",
       " 'jute': 6,\n",
       " 'maize': 7,\n",
       " 'apple': 8,\n",
       " 'mungbean': 9,\n",
       " 'orange': 10,\n",
       " 'rice': 11,\n",
       " 'blackgram': 12,\n",
       " 'papaya': 13,\n",
       " 'lentil': 14,\n",
       " 'cotton': 15,\n",
       " 'grapes': 16,\n",
       " 'coffee': 17,\n",
       " 'pigeonpeas': 18,\n",
       " 'chickpea': 19,\n",
       " 'mango': 20,\n",
       " 'watermelon': 21,\n",
       " 'coconut': 22}"
      ]
     },
     "execution_count": 9,
     "metadata": {},
     "output_type": "execute_result"
    }
   ],
   "source": [
    "label_map={}\n",
    "crops=data['label'].unique()\n",
    "val=1\n",
    "for crop in crops:\n",
    "    label_map[crop]=val\n",
    "    val+=1\n",
    "data['label_num']=data['label'].map(label_map)\n",
    "label_map"
   ]
  },
  {
   "cell_type": "code",
   "execution_count": 10,
   "id": "e4b2edcc-9f27-41ff-873a-6aca5e0675ac",
   "metadata": {},
   "outputs": [
    {
     "data": {
      "text/html": [
       "<div>\n",
       "<style scoped>\n",
       "    .dataframe tbody tr th:only-of-type {\n",
       "        vertical-align: middle;\n",
       "    }\n",
       "\n",
       "    .dataframe tbody tr th {\n",
       "        vertical-align: top;\n",
       "    }\n",
       "\n",
       "    .dataframe thead th {\n",
       "        text-align: right;\n",
       "    }\n",
       "</style>\n",
       "<table border=\"1\" class=\"dataframe\">\n",
       "  <thead>\n",
       "    <tr style=\"text-align: right;\">\n",
       "      <th></th>\n",
       "      <th>N</th>\n",
       "      <th>P</th>\n",
       "      <th>K</th>\n",
       "      <th>temperature</th>\n",
       "      <th>humidity</th>\n",
       "      <th>ph</th>\n",
       "      <th>rainfall</th>\n",
       "      <th>label_num</th>\n",
       "    </tr>\n",
       "  </thead>\n",
       "  <tbody>\n",
       "    <tr>\n",
       "      <th>1058</th>\n",
       "      <td>86</td>\n",
       "      <td>79</td>\n",
       "      <td>45</td>\n",
       "      <td>27.812515</td>\n",
       "      <td>82.692854</td>\n",
       "      <td>5.807664</td>\n",
       "      <td>99.209615</td>\n",
       "      <td>1</td>\n",
       "    </tr>\n",
       "    <tr>\n",
       "      <th>575</th>\n",
       "      <td>27</td>\n",
       "      <td>59</td>\n",
       "      <td>20</td>\n",
       "      <td>28.009374</td>\n",
       "      <td>52.609500</td>\n",
       "      <td>4.397699</td>\n",
       "      <td>36.012030</td>\n",
       "      <td>2</td>\n",
       "    </tr>\n",
       "    <tr>\n",
       "      <th>972</th>\n",
       "      <td>18</td>\n",
       "      <td>21</td>\n",
       "      <td>35</td>\n",
       "      <td>23.280123</td>\n",
       "      <td>94.943305</td>\n",
       "      <td>6.368561</td>\n",
       "      <td>111.138210</td>\n",
       "      <td>3</td>\n",
       "    </tr>\n",
       "    <tr>\n",
       "      <th>347</th>\n",
       "      <td>13</td>\n",
       "      <td>72</td>\n",
       "      <td>21</td>\n",
       "      <td>24.321166</td>\n",
       "      <td>21.027867</td>\n",
       "      <td>5.821194</td>\n",
       "      <td>60.275525</td>\n",
       "      <td>4</td>\n",
       "    </tr>\n",
       "    <tr>\n",
       "      <th>1497</th>\n",
       "      <td>106</td>\n",
       "      <td>21</td>\n",
       "      <td>52</td>\n",
       "      <td>28.895786</td>\n",
       "      <td>94.789930</td>\n",
       "      <td>6.286515</td>\n",
       "      <td>23.036250</td>\n",
       "      <td>5</td>\n",
       "    </tr>\n",
       "  </tbody>\n",
       "</table>\n",
       "</div>"
      ],
      "text/plain": [
       "        N   P   K  temperature   humidity        ph    rainfall  label_num\n",
       "1058   86  79  45    27.812515  82.692854  5.807664   99.209615          1\n",
       "575    27  59  20    28.009374  52.609500  4.397699   36.012030          2\n",
       "972    18  21  35    23.280123  94.943305  6.368561  111.138210          3\n",
       "347    13  72  21    24.321166  21.027867  5.821194   60.275525          4\n",
       "1497  106  21  52    28.895786  94.789930  6.286515   23.036250          5"
      ]
     },
     "execution_count": 10,
     "metadata": {},
     "output_type": "execute_result"
    }
   ],
   "source": [
    "data.drop(columns=['label'],axis=1,inplace=True)\n",
    "data.head()"
   ]
  },
  {
   "cell_type": "markdown",
   "id": "03364095-b385-4af5-afb8-1d7afc252e09",
   "metadata": {},
   "source": [
    "# Train Test Split"
   ]
  },
  {
   "cell_type": "code",
   "execution_count": 11,
   "id": "0190adea-5ace-403c-8460-62b451513879",
   "metadata": {},
   "outputs": [],
   "source": [
    "X=data.drop(columns=['label_num'],axis=1)\n",
    "Y=data['label_num']"
   ]
  },
  {
   "cell_type": "code",
   "execution_count": 12,
   "id": "672d943f-15c6-492b-806e-e76d76a2b7cf",
   "metadata": {},
   "outputs": [],
   "source": [
    "from sklearn.preprocessing import StandardScaler\n",
    "scaler=StandardScaler()\n",
    "scaled_X=scaler.fit_transform(X)"
   ]
  },
  {
   "cell_type": "code",
   "execution_count": 13,
   "id": "be724bbf-221c-43f7-8eb8-4a14f9883cba",
   "metadata": {},
   "outputs": [],
   "source": [
    "from sklearn.model_selection import train_test_split\n",
    "X_train,X_test,Y_train,Y_test=train_test_split(scaled_X,Y,train_size=0.70,random_state=42)"
   ]
  },
  {
   "cell_type": "code",
   "execution_count": 14,
   "id": "57596a0b-4759-4e8b-8279-f61e3e7600fc",
   "metadata": {},
   "outputs": [
    {
     "data": {
      "text/plain": [
       "((1540, 7), (660, 7), (1540,), (660,))"
      ]
     },
     "execution_count": 14,
     "metadata": {},
     "output_type": "execute_result"
    }
   ],
   "source": [
    "X_train.shape, X_test.shape, Y_train.shape, Y_test.shape"
   ]
  },
  {
   "cell_type": "markdown",
   "id": "d7870255-062a-4be2-a0b5-f122b736e220",
   "metadata": {},
   "source": [
    "# Implementing models"
   ]
  },
  {
   "cell_type": "code",
   "execution_count": 15,
   "id": "e98768fd-0025-4643-876a-ae5ca785cc87",
   "metadata": {},
   "outputs": [],
   "source": [
    "from sklearn.linear_model import LogisticRegression\n",
    "from sklearn.naive_bayes import GaussianNB\n",
    "from sklearn.svm import SVC\n",
    "from sklearn.neighbors import KNeighborsClassifier\n",
    "from sklearn.tree import DecisionTreeClassifier, ExtraTreeClassifier\n",
    "from sklearn.ensemble import RandomForestClassifier, BaggingClassifier, GradientBoostingClassifier, AdaBoostClassifier\n",
    "from sklearn.metrics import accuracy_score, confusion_matrix, classification_report, precision_score, recall_score, f1_score"
   ]
  },
  {
   "cell_type": "code",
   "execution_count": 16,
   "id": "8c32a1d3-6606-46dc-85a7-5b3f324c5800",
   "metadata": {},
   "outputs": [],
   "source": [
    "models={\n",
    "    'Logistic Regression': LogisticRegression(class_weight='balanced'),\n",
    "    'Naive Bayes': GaussianNB(),\n",
    "    'Support Vector Machine': SVC(),\n",
    "    'K-Nearest Neighbors': KNeighborsClassifier(),\n",
    "    'Decision Tree': DecisionTreeClassifier(),\n",
    "    'Extra Trees': ExtraTreeClassifier(),\n",
    "    'Random Forest': RandomForestClassifier(),\n",
    "    'Bagging': BaggingClassifier(),\n",
    "    'Gradient Boosting': GradientBoostingClassifier(),\n",
    "}"
   ]
  },
  {
   "cell_type": "code",
   "execution_count": 17,
   "id": "ce809aff-8e6f-456c-aa48-b8491e1f6e7c",
   "metadata": {},
   "outputs": [],
   "source": [
    "# for name,model in models.items():\n",
    "#     model.fit(X_train,Y_train)\n",
    "#     predictions=model.predict(X_test)\n",
    "#     print(f\"{name} : Classification report\")\n",
    "#     print(classification_report(Y_test,predictions),'\\n')\n",
    "#     print(f\"{name} Precision score : \", precision_score(Y_test,predictions,average=\"macro\"),'\\n')\n",
    "#     print(f\"{name} Recall score : \", recall_score(Y_test,predictions,average=\"macro\"),'\\n')\n",
    "#     print(\"*******************************************\")"
   ]
  },
  {
   "cell_type": "code",
   "execution_count": 18,
   "id": "206ad358-f799-4c9b-9d89-7c8b3e612d6b",
   "metadata": {},
   "outputs": [],
   "source": [
    "classifier=models['Logistic Regression']\n",
    "classifier.fit(X_train,Y_train)\n",
    "predictions=classifier.predict(X_test)"
   ]
  },
  {
   "cell_type": "markdown",
   "id": "e9b4ed76-88b9-40b5-bcd5-296d2248df2b",
   "metadata": {},
   "source": [
    "# Predictive system"
   ]
  },
  {
   "cell_type": "code",
   "execution_count": 19,
   "id": "70061845-a650-401e-8bfb-e764c537b8bd",
   "metadata": {},
   "outputs": [],
   "source": [
    "def recommendation(N,P,k,temperature,humidity,ph,rainfal):\n",
    "    features=np.array([[N,P,k,temperature,humidity,ph,rainfal]])\n",
    "    transformed_features=scaler.fit_transform(features)\n",
    "    prediction=classifier.predict(transformed_features)\n",
    "    print(prediction)\n",
    "    return prediction[0]"
   ]
  },
  {
   "cell_type": "code",
   "execution_count": 20,
   "id": "4698209a-f750-4f23-9caf-7863a2a4295f",
   "metadata": {},
   "outputs": [
    {
     "data": {
      "text/plain": [
       "{1: 'banana',\n",
       " 2: 'mothbeans',\n",
       " 3: 'pomegranate',\n",
       " 4: 'kidneybeans',\n",
       " 5: 'muskmelon',\n",
       " 6: 'jute',\n",
       " 7: 'maize',\n",
       " 8: 'apple',\n",
       " 9: 'mungbean',\n",
       " 10: 'orange',\n",
       " 11: 'rice',\n",
       " 12: 'blackgram',\n",
       " 13: 'papaya',\n",
       " 14: 'lentil',\n",
       " 15: 'cotton',\n",
       " 16: 'grapes',\n",
       " 17: 'coffee',\n",
       " 18: 'pigeonpeas',\n",
       " 19: 'chickpea',\n",
       " 20: 'mango',\n",
       " 21: 'watermelon',\n",
       " 22: 'coconut'}"
      ]
     },
     "execution_count": 20,
     "metadata": {},
     "output_type": "execute_result"
    }
   ],
   "source": [
    "crop_map={}\n",
    "for crop in crops:\n",
    "    crop_map[label_map[crop]]=crop\n",
    "crop_map"
   ]
  },
  {
   "cell_type": "code",
   "execution_count": 21,
   "id": "c2003013-f501-4c92-a3ad-18a49f3e4e3f",
   "metadata": {},
   "outputs": [
    {
     "name": "stdout",
     "output_type": "stream",
     "text": [
      "[6]\n",
      "6 is a best crop to be cultivated \n"
     ]
    }
   ],
   "source": [
    "# input 1\n",
    "\n",
    "N = 49\n",
    "P = 55\n",
    "k = 51\n",
    "temperature = 24.87\n",
    "humidity = 93.9\n",
    "ph = 6.67\n",
    "rainfall = 135\n",
    "\n",
    "predict = recommendation(N,P,k,temperature,humidity,ph,rainfall)\n",
    "if predict in crop_map:\n",
    "    print(\"{} is a best crop to be cultivated \".format(predict))\n",
    "else:\n",
    "    print(\"Sorry are not able to recommend a proper crop for this environment\")"
   ]
  },
  {
   "cell_type": "code",
   "execution_count": 22,
   "id": "65c91221-82cf-4ad9-ac89-12d1b616543a",
   "metadata": {},
   "outputs": [
    {
     "name": "stdout",
     "output_type": "stream",
     "text": [
      "[6]\n",
      "6 is a best crop to be cultivated \n"
     ]
    }
   ],
   "source": [
    "N = 9\n",
    "P = 35\n",
    "k = 20\n",
    "temperature = 27.4\n",
    "humidity = 80.9\n",
    "ph = 6.9\n",
    "rainfall = 40.53\n",
    "\n",
    "predict = recommendation(N,P,k,temperature,humidity,ph,rainfall)\n",
    "if predict in crop_map:\n",
    "    print(\"{} is a best crop to be cultivated \".format(predict))\n",
    "else:\n",
    "    print(\"Sorry are not able to recommend a proper crop for this environment\")"
   ]
  },
  {
   "cell_type": "code",
   "execution_count": 23,
   "id": "da8f5294-8a5a-4bf2-a181-5e507a76f673",
   "metadata": {},
   "outputs": [
    {
     "data": {
      "text/html": [
       "<div>\n",
       "<style scoped>\n",
       "    .dataframe tbody tr th:only-of-type {\n",
       "        vertical-align: middle;\n",
       "    }\n",
       "\n",
       "    .dataframe tbody tr th {\n",
       "        vertical-align: top;\n",
       "    }\n",
       "\n",
       "    .dataframe thead th {\n",
       "        text-align: right;\n",
       "    }\n",
       "</style>\n",
       "<table border=\"1\" class=\"dataframe\">\n",
       "  <thead>\n",
       "    <tr style=\"text-align: right;\">\n",
       "      <th></th>\n",
       "      <th>N</th>\n",
       "      <th>P</th>\n",
       "      <th>K</th>\n",
       "      <th>temperature</th>\n",
       "      <th>humidity</th>\n",
       "      <th>ph</th>\n",
       "      <th>rainfall</th>\n",
       "      <th>label_num</th>\n",
       "    </tr>\n",
       "  </thead>\n",
       "  <tbody>\n",
       "    <tr>\n",
       "      <th>1058</th>\n",
       "      <td>86</td>\n",
       "      <td>79</td>\n",
       "      <td>45</td>\n",
       "      <td>27.812515</td>\n",
       "      <td>82.692854</td>\n",
       "      <td>5.807664</td>\n",
       "      <td>99.209615</td>\n",
       "      <td>1</td>\n",
       "    </tr>\n",
       "    <tr>\n",
       "      <th>575</th>\n",
       "      <td>27</td>\n",
       "      <td>59</td>\n",
       "      <td>20</td>\n",
       "      <td>28.009374</td>\n",
       "      <td>52.609500</td>\n",
       "      <td>4.397699</td>\n",
       "      <td>36.012030</td>\n",
       "      <td>2</td>\n",
       "    </tr>\n",
       "    <tr>\n",
       "      <th>972</th>\n",
       "      <td>18</td>\n",
       "      <td>21</td>\n",
       "      <td>35</td>\n",
       "      <td>23.280123</td>\n",
       "      <td>94.943305</td>\n",
       "      <td>6.368561</td>\n",
       "      <td>111.138210</td>\n",
       "      <td>3</td>\n",
       "    </tr>\n",
       "    <tr>\n",
       "      <th>347</th>\n",
       "      <td>13</td>\n",
       "      <td>72</td>\n",
       "      <td>21</td>\n",
       "      <td>24.321166</td>\n",
       "      <td>21.027867</td>\n",
       "      <td>5.821194</td>\n",
       "      <td>60.275525</td>\n",
       "      <td>4</td>\n",
       "    </tr>\n",
       "    <tr>\n",
       "      <th>1497</th>\n",
       "      <td>106</td>\n",
       "      <td>21</td>\n",
       "      <td>52</td>\n",
       "      <td>28.895786</td>\n",
       "      <td>94.789930</td>\n",
       "      <td>6.286515</td>\n",
       "      <td>23.036250</td>\n",
       "      <td>5</td>\n",
       "    </tr>\n",
       "    <tr>\n",
       "      <th>1400</th>\n",
       "      <td>115</td>\n",
       "      <td>17</td>\n",
       "      <td>55</td>\n",
       "      <td>27.578269</td>\n",
       "      <td>94.118782</td>\n",
       "      <td>6.776533</td>\n",
       "      <td>28.082532</td>\n",
       "      <td>5</td>\n",
       "    </tr>\n",
       "    <tr>\n",
       "      <th>338</th>\n",
       "      <td>25</td>\n",
       "      <td>63</td>\n",
       "      <td>20</td>\n",
       "      <td>15.786014</td>\n",
       "      <td>21.145441</td>\n",
       "      <td>5.502999</td>\n",
       "      <td>95.170281</td>\n",
       "      <td>4</td>\n",
       "    </tr>\n",
       "    <tr>\n",
       "      <th>2071</th>\n",
       "      <td>99</td>\n",
       "      <td>57</td>\n",
       "      <td>38</td>\n",
       "      <td>24.806250</td>\n",
       "      <td>82.092817</td>\n",
       "      <td>6.356296</td>\n",
       "      <td>156.361617</td>\n",
       "      <td>6</td>\n",
       "    </tr>\n",
       "    <tr>\n",
       "      <th>172</th>\n",
       "      <td>86</td>\n",
       "      <td>37</td>\n",
       "      <td>16</td>\n",
       "      <td>20.517168</td>\n",
       "      <td>59.212355</td>\n",
       "      <td>5.561511</td>\n",
       "      <td>67.610137</td>\n",
       "      <td>7</td>\n",
       "    </tr>\n",
       "    <tr>\n",
       "      <th>1557</th>\n",
       "      <td>30</td>\n",
       "      <td>127</td>\n",
       "      <td>204</td>\n",
       "      <td>22.500503</td>\n",
       "      <td>92.458783</td>\n",
       "      <td>6.126437</td>\n",
       "      <td>100.934390</td>\n",
       "      <td>8</td>\n",
       "    </tr>\n",
       "    <tr>\n",
       "      <th>616</th>\n",
       "      <td>19</td>\n",
       "      <td>53</td>\n",
       "      <td>22</td>\n",
       "      <td>27.864013</td>\n",
       "      <td>80.451314</td>\n",
       "      <td>6.852885</td>\n",
       "      <td>42.830539</td>\n",
       "      <td>9</td>\n",
       "    </tr>\n",
       "    <tr>\n",
       "      <th>1629</th>\n",
       "      <td>5</td>\n",
       "      <td>18</td>\n",
       "      <td>14</td>\n",
       "      <td>33.105698</td>\n",
       "      <td>93.484475</td>\n",
       "      <td>7.434119</td>\n",
       "      <td>119.170911</td>\n",
       "      <td>10</td>\n",
       "    </tr>\n",
       "    <tr>\n",
       "      <th>30</th>\n",
       "      <td>73</td>\n",
       "      <td>57</td>\n",
       "      <td>41</td>\n",
       "      <td>21.446540</td>\n",
       "      <td>84.943760</td>\n",
       "      <td>5.824709</td>\n",
       "      <td>272.201720</td>\n",
       "      <td>11</td>\n",
       "    </tr>\n",
       "    <tr>\n",
       "      <th>799</th>\n",
       "      <td>38</td>\n",
       "      <td>62</td>\n",
       "      <td>25</td>\n",
       "      <td>32.747739</td>\n",
       "      <td>67.779546</td>\n",
       "      <td>7.453975</td>\n",
       "      <td>63.377844</td>\n",
       "      <td>12</td>\n",
       "    </tr>\n",
       "    <tr>\n",
       "      <th>1616</th>\n",
       "      <td>31</td>\n",
       "      <td>8</td>\n",
       "      <td>7</td>\n",
       "      <td>34.514651</td>\n",
       "      <td>93.638127</td>\n",
       "      <td>7.163246</td>\n",
       "      <td>103.568493</td>\n",
       "      <td>10</td>\n",
       "    </tr>\n",
       "  </tbody>\n",
       "</table>\n",
       "</div>"
      ],
      "text/plain": [
       "        N    P    K  temperature   humidity        ph    rainfall  label_num\n",
       "1058   86   79   45    27.812515  82.692854  5.807664   99.209615          1\n",
       "575    27   59   20    28.009374  52.609500  4.397699   36.012030          2\n",
       "972    18   21   35    23.280123  94.943305  6.368561  111.138210          3\n",
       "347    13   72   21    24.321166  21.027867  5.821194   60.275525          4\n",
       "1497  106   21   52    28.895786  94.789930  6.286515   23.036250          5\n",
       "1400  115   17   55    27.578269  94.118782  6.776533   28.082532          5\n",
       "338    25   63   20    15.786014  21.145441  5.502999   95.170281          4\n",
       "2071   99   57   38    24.806250  82.092817  6.356296  156.361617          6\n",
       "172    86   37   16    20.517168  59.212355  5.561511   67.610137          7\n",
       "1557   30  127  204    22.500503  92.458783  6.126437  100.934390          8\n",
       "616    19   53   22    27.864013  80.451314  6.852885   42.830539          9\n",
       "1629    5   18   14    33.105698  93.484475  7.434119  119.170911         10\n",
       "30     73   57   41    21.446540  84.943760  5.824709  272.201720         11\n",
       "799    38   62   25    32.747739  67.779546  7.453975   63.377844         12\n",
       "1616   31    8    7    34.514651  93.638127  7.163246  103.568493         10"
      ]
     },
     "execution_count": 23,
     "metadata": {},
     "output_type": "execute_result"
    }
   ],
   "source": [
    "data.head(15)"
   ]
  },
  {
   "cell_type": "code",
   "execution_count": 24,
   "id": "5baba43d-7179-4f4a-a872-9edcc436e9db",
   "metadata": {},
   "outputs": [
    {
     "name": "stdout",
     "output_type": "stream",
     "text": [
      "[6]\n",
      "6 is a best crop to be cultivated \n"
     ]
    }
   ],
   "source": [
    "N = 49\n",
    "P = 70\n",
    "k = 76\n",
    "temperature = 19.7\n",
    "humidity = 17.6\n",
    "ph = 6.61\n",
    "rainfall = 85.57\n",
    "\n",
    "predict = recommendation(N,P,k,temperature,humidity,ph,rainfall)\n",
    "if predict in crop_map:\n",
    "    print(\"{} is a best crop to be cultivated \".format(predict))\n",
    "else:\n",
    "    print(\"Sorry are not able to recommend a proper crop for this environment\")"
   ]
  },
  {
   "cell_type": "code",
   "execution_count": 29,
   "id": "a3d1ae9b-9f7b-4da3-af7b-8a28da6c17f2",
   "metadata": {},
   "outputs": [
    {
     "data": {
      "text/plain": [
       "(0.9704530642305707, 0.9774913937316764)"
      ]
     },
     "execution_count": 29,
     "metadata": {},
     "output_type": "execute_result"
    }
   ],
   "source": [
    "model=LogisticRegression()\n",
    "model.fit(X_train,Y_train)\n",
    "p=model.predict(X_train)\n",
    "f1=f1_score(Y_train,p,average=\"macro\")\n",
    "p=model.predict(X_test)\n",
    "f2=f1_score(Y_test,p,average=\"macro\")\n",
    "f1,f2"
   ]
  }
 ],
 "metadata": {
  "kernelspec": {
   "display_name": "Python 3 (ipykernel)",
   "language": "python",
   "name": "python3"
  },
  "language_info": {
   "codemirror_mode": {
    "name": "ipython",
    "version": 3
   },
   "file_extension": ".py",
   "mimetype": "text/x-python",
   "name": "python",
   "nbconvert_exporter": "python",
   "pygments_lexer": "ipython3",
   "version": "3.11.7"
  }
 },
 "nbformat": 4,
 "nbformat_minor": 5
}
